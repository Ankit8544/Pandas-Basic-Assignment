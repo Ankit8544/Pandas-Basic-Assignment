{
 "cells": [
  {
   "cell_type": "markdown",
   "metadata": {},
   "source": [
    "Q.No.01    Create a Pandas Series that contains the following data: 4, 8, 15, 16, 23, and 42. Then, print the series."
   ]
  },
  {
   "cell_type": "markdown",
   "metadata": {},
   "source": [
    "Ans :-"
   ]
  },
  {
   "cell_type": "code",
   "execution_count": 3,
   "metadata": {},
   "outputs": [
    {
     "name": "stdout",
     "output_type": "stream",
     "text": [
      "0     4\n",
      "1     8\n",
      "2    15\n",
      "3    16\n",
      "4    23\n",
      "5    42\n",
      "dtype: int64\n"
     ]
    }
   ],
   "source": [
    "import pandas as pd\n",
    "data = [4, 8, 15, 16, 23, 42]\n",
    "series = pd.Series(data)\n",
    "print(series)"
   ]
  },
  {
   "cell_type": "markdown",
   "metadata": {},
   "source": [
    "--------------------------------------------------------------------------------------------------------------------"
   ]
  },
  {
   "cell_type": "markdown",
   "metadata": {},
   "source": [
    "Q.No-02    Create a variable of list type containing 10 elements in it, and apply pandas.Series function on the\n",
    "variable print it."
   ]
  },
  {
   "cell_type": "markdown",
   "metadata": {},
   "source": [
    "Ans :-"
   ]
  },
  {
   "cell_type": "code",
   "execution_count": 4,
   "metadata": {},
   "outputs": [],
   "source": [
    "My_List =  [\"Ankit\",\"Abhishek\",\"Rishika\",\"Kundan\",\"Ritik\",\"Sonali\",\"Anjali\",\"Manish\",\"Rajveer\",\"Sachin\"]"
   ]
  },
  {
   "cell_type": "code",
   "execution_count": 5,
   "metadata": {},
   "outputs": [
    {
     "name": "stdout",
     "output_type": "stream",
     "text": [
      "0       Ankit\n",
      "1    Abhishek\n",
      "2     Rishika\n",
      "3      Kundan\n",
      "4       Ritik\n",
      "5      Sonali\n",
      "6      Anjali\n",
      "7      Manish\n",
      "8     Rajveer\n",
      "9      Sachin\n",
      "dtype: object\n"
     ]
    }
   ],
   "source": [
    "import pandas as pd\n",
    "series2 = pd.Series(My_List)\n",
    "print(series2)"
   ]
  },
  {
   "cell_type": "markdown",
   "metadata": {},
   "source": [
    "--------------------------------------------------------------------------------------------------------------------"
   ]
  },
  {
   "cell_type": "markdown",
   "metadata": {},
   "source": [
    "Q.No-03    Create a Pandas DataFrame that contains the following data:"
   ]
  },
  {
   "cell_type": "code",
   "execution_count": 6,
   "metadata": {},
   "outputs": [
    {
     "data": {
      "image/png": "[encoded data removed]",
      "text/plain": [
       "<IPython.core.display.Image object>"
      ]
     },
     "execution_count": 6,
     "metadata": {},
     "output_type": "execute_result"
    }
   ],
   "source": [
    "from IPython.display import Image\n",
    "Image(filename='Data.png')"
   ]
  },
  {
   "cell_type": "markdown",
   "metadata": {},
   "source": [
    "Then, print the DataFrame."
   ]
  },
  {
   "cell_type": "markdown",
   "metadata": {},
   "source": [
    "Ans :-"
   ]
  },
  {
   "cell_type": "code",
   "execution_count": 7,
   "metadata": {},
   "outputs": [],
   "source": [
    "data = {\n",
    "    'Name': ['Alice', 'Bob', 'Claire'],\n",
    "    'Age': [25,30,27],\n",
    "    'Gender':['Female','Male','Female']\n",
    "}"
   ]
  },
  {
   "cell_type": "code",
   "execution_count": 8,
   "metadata": {},
   "outputs": [
    {
     "data": {
      "text/html": [
       "<div>\n",
       "<style scoped>\n",
       "    .dataframe tbody tr th:only-of-type {\n",
       "        vertical-align: middle;\n",
       "    }\n",
       "\n",
       "    .dataframe tbody tr th {\n",
       "        vertical-align: top;\n",
       "    }\n",
       "\n",
       "    .dataframe thead th {\n",
       "        text-align: right;\n",
       "    }\n",
       "</style>\n",
       "<table border=\"1\" class=\"dataframe\">\n",
       "  <thead>\n",
       "    <tr style=\"text-align: right;\">\n",
       "      <th></th>\n",
       "      <th>Name</th>\n",
       "      <th>Age</th>\n",
       "      <th>Gender</th>\n",
       "    </tr>\n",
       "  </thead>\n",
       "  <tbody>\n",
       "    <tr>\n",
       "      <th>0</th>\n",
       "      <td>Alice</td>\n",
       "      <td>25</td>\n",
       "      <td>Female</td>\n",
       "    </tr>\n",
       "    <tr>\n",
       "      <th>1</th>\n",
       "      <td>Bob</td>\n",
       "      <td>30</td>\n",
       "      <td>Male</td>\n",
       "    </tr>\n",
       "    <tr>\n",
       "      <th>2</th>\n",
       "      <td>Claire</td>\n",
       "      <td>27</td>\n",
       "      <td>Female</td>\n",
       "    </tr>\n",
       "  </tbody>\n",
       "</table>\n",
       "</div>"
      ],
      "text/plain": [
       "     Name  Age  Gender\n",
       "0   Alice   25  Female\n",
       "1     Bob   30    Male\n",
       "2  Claire   27  Female"
      ]
     },
     "execution_count": 8,
     "metadata": {},
     "output_type": "execute_result"
    }
   ],
   "source": [
    "import pandas as pd\n",
    "df = pd.DataFrame(data)\n",
    "df"
   ]
  },
  {
   "cell_type": "markdown",
   "metadata": {},
   "source": [
    "--------------------------------------------------------------------------------------------------------------------"
   ]
  },
  {
   "cell_type": "markdown",
   "metadata": {},
   "source": [
    "Q.No-04    What is ‘DataFrame’ in pandas and how is it different from pandas.series? Explain with an example."
   ]
  },
  {
   "cell_type": "markdown",
   "metadata": {},
   "source": [
    "Ans :-"
   ]
  },
  {
   "cell_type": "markdown",
   "metadata": {},
   "source": [
    "In pandas, a `'pandas.DataFrame'` is a two-dimensional labeled data structure that is used to store and manipulate data in a tabular format, similar to a spreadsheet or SQL table. It consists of rows and columns, where each column can contain different data types (e.g., integers, floats, strings) and has a unique label. DataFrames are one of the core data structures provided by the pandas library and are widely used for data analysis and manipulation tasks."
   ]
  },
  {
   "cell_type": "markdown",
   "metadata": {},
   "source": [
    "On the other hand, a `'pandas.Series'` is a one-dimensional labeled data structure that can hold data of the same data type. It can be thought of as a single column in a DataFrame. Each element in a Series has a unique label called the index, which allows for easy data access and alignment."
   ]
  },
  {
   "cell_type": "markdown",
   "metadata": {},
   "source": [
    "    Let's illustrate the difference between DataFrame and Series with an example:"
   ]
  },
  {
   "cell_type": "code",
   "execution_count": 9,
   "metadata": {},
   "outputs": [
    {
     "name": "stdout",
     "output_type": "stream",
     "text": [
      "Series:\n",
      "0    25\n",
      "1    30\n",
      "2    22\n",
      "3    27\n",
      "4    35\n",
      "Name: Age, dtype: int64\n"
     ]
    }
   ],
   "source": [
    "import pandas as pd\n",
    "ages = pd.Series([25, 30, 22, 27, 35], name=\"Age\")\n",
    "print(\"Series:\")\n",
    "print(ages)"
   ]
  },
  {
   "cell_type": "code",
   "execution_count": 10,
   "metadata": {},
   "outputs": [
    {
     "name": "stdout",
     "output_type": "stream",
     "text": [
      "DataFrame:\n"
     ]
    },
    {
     "data": {
      "text/html": [
       "<div>\n",
       "<style scoped>\n",
       "    .dataframe tbody tr th:only-of-type {\n",
       "        vertical-align: middle;\n",
       "    }\n",
       "\n",
       "    .dataframe tbody tr th {\n",
       "        vertical-align: top;\n",
       "    }\n",
       "\n",
       "    .dataframe thead th {\n",
       "        text-align: right;\n",
       "    }\n",
       "</style>\n",
       "<table border=\"1\" class=\"dataframe\">\n",
       "  <thead>\n",
       "    <tr style=\"text-align: right;\">\n",
       "      <th></th>\n",
       "      <th>Name</th>\n",
       "      <th>Age</th>\n",
       "      <th>City</th>\n",
       "    </tr>\n",
       "  </thead>\n",
       "  <tbody>\n",
       "    <tr>\n",
       "      <th>0</th>\n",
       "      <td>Alice</td>\n",
       "      <td>25</td>\n",
       "      <td>New York</td>\n",
       "    </tr>\n",
       "    <tr>\n",
       "      <th>1</th>\n",
       "      <td>Bob</td>\n",
       "      <td>30</td>\n",
       "      <td>London</td>\n",
       "    </tr>\n",
       "    <tr>\n",
       "      <th>2</th>\n",
       "      <td>Charlie</td>\n",
       "      <td>22</td>\n",
       "      <td>Paris</td>\n",
       "    </tr>\n",
       "    <tr>\n",
       "      <th>3</th>\n",
       "      <td>David</td>\n",
       "      <td>27</td>\n",
       "      <td>Tokyo</td>\n",
       "    </tr>\n",
       "    <tr>\n",
       "      <th>4</th>\n",
       "      <td>Eve</td>\n",
       "      <td>35</td>\n",
       "      <td>Sydney</td>\n",
       "    </tr>\n",
       "  </tbody>\n",
       "</table>\n",
       "</div>"
      ],
      "text/plain": [
       "      Name  Age      City\n",
       "0    Alice   25  New York\n",
       "1      Bob   30    London\n",
       "2  Charlie   22     Paris\n",
       "3    David   27     Tokyo\n",
       "4      Eve   35    Sydney"
      ]
     },
     "execution_count": 10,
     "metadata": {},
     "output_type": "execute_result"
    }
   ],
   "source": [
    "data = {\n",
    "    \"Name\": [\"Alice\", \"Bob\", \"Charlie\", \"David\", \"Eve\"],\n",
    "    \"Age\": [25, 30, 22, 27, 35],\n",
    "    \"City\": [\"New York\", \"London\", \"Paris\", \"Tokyo\", \"Sydney\"]\n",
    "}\n",
    "people_df = pd.DataFrame(data)\n",
    "print(\"DataFrame:\")\n",
    "people_df"
   ]
  },
  {
   "cell_type": "markdown",
   "metadata": {},
   "source": [
    "--------------------------------------------------------------------------------------------------------------------"
   ]
  },
  {
   "cell_type": "markdown",
   "metadata": {},
   "source": [
    "Q.No-05    What are some common functions you can use to manipulate data in a Pandas DataFrame? Can\n",
    "you give an example of when you might use one of these functions?"
   ]
  },
  {
   "cell_type": "markdown",
   "metadata": {},
   "source": [
    "Ans :-"
   ]
  },
  {
   "cell_type": "markdown",
   "metadata": {},
   "source": [
    "In Pandas, there are various functions available to manipulate data in a DataFrame, making it a powerful tool for data analysis and manipulation. Some common functions include:"
   ]
  },
  {
   "cell_type": "markdown",
   "metadata": {},
   "source": [
    "**`read_excel()`**"
   ]
  },
  {
   "cell_type": "code",
   "execution_count": 96,
   "metadata": {},
   "outputs": [
    {
     "name": "stdout",
     "output_type": "stream",
     "text": [
      "Excel File Readed Sucessfully\n"
     ]
    }
   ],
   "source": [
    "try:\n",
    "    Read_Excel = pd.read_excel(\"Example_EXCEL.xlsx\")\n",
    "    print(\"Excel File Readed Sucessfully\")\n",
    "except Exception as e:\n",
    "    print(f\"An unexpected error occurred: {e}\")\n"
   ]
  },
  {
   "cell_type": "markdown",
   "metadata": {},
   "source": [
    "**`read_csv()`**"
   ]
  },
  {
   "cell_type": "code",
   "execution_count": 97,
   "metadata": {},
   "outputs": [
    {
     "name": "stdout",
     "output_type": "stream",
     "text": [
      "CSV File Readed Sucessfully\n"
     ]
    }
   ],
   "source": [
    "try:\n",
    "    Read_CSV = pd.read_excel(\"Example_EXCEL.xlsx\")\n",
    "    print(\"CSV File Readed Sucessfully\")\n",
    "except Exception as e:\n",
    "    print(f\"An unexpected error occurred: {e}\")\n"
   ]
  },
  {
   "cell_type": "markdown",
   "metadata": {},
   "source": [
    "**`head()`**"
   ]
  },
  {
   "cell_type": "code",
   "execution_count": 98,
   "metadata": {},
   "outputs": [
    {
     "data": {
      "text/html": [
       "<div>\n",
       "<style scoped>\n",
       "    .dataframe tbody tr th:only-of-type {\n",
       "        vertical-align: middle;\n",
       "    }\n",
       "\n",
       "    .dataframe tbody tr th {\n",
       "        vertical-align: top;\n",
       "    }\n",
       "\n",
       "    .dataframe thead th {\n",
       "        text-align: right;\n",
       "    }\n",
       "</style>\n",
       "<table border=\"1\" class=\"dataframe\">\n",
       "  <thead>\n",
       "    <tr style=\"text-align: right;\">\n",
       "      <th></th>\n",
       "      <th>NAME</th>\n",
       "      <th>GENDER</th>\n",
       "      <th>AGE</th>\n",
       "      <th>COUNTRY</th>\n",
       "    </tr>\n",
       "  </thead>\n",
       "  <tbody>\n",
       "    <tr>\n",
       "      <th>0</th>\n",
       "      <td>Dett</td>\n",
       "      <td>Male</td>\n",
       "      <td>18</td>\n",
       "      <td>Great Britain</td>\n",
       "    </tr>\n",
       "    <tr>\n",
       "      <th>1</th>\n",
       "      <td>Nern</td>\n",
       "      <td>Female</td>\n",
       "      <td>19</td>\n",
       "      <td>France</td>\n",
       "    </tr>\n",
       "    <tr>\n",
       "      <th>2</th>\n",
       "      <td>Kallsie</td>\n",
       "      <td>Male</td>\n",
       "      <td>20</td>\n",
       "      <td>France</td>\n",
       "    </tr>\n",
       "    <tr>\n",
       "      <th>3</th>\n",
       "      <td>Siuau</td>\n",
       "      <td>Female</td>\n",
       "      <td>21</td>\n",
       "      <td>Great Britain</td>\n",
       "    </tr>\n",
       "    <tr>\n",
       "      <th>4</th>\n",
       "      <td>Shennice</td>\n",
       "      <td>Male</td>\n",
       "      <td>22</td>\n",
       "      <td>France</td>\n",
       "    </tr>\n",
       "  </tbody>\n",
       "</table>\n",
       "</div>"
      ],
      "text/plain": [
       "       NAME  GENDER  AGE        COUNTRY\n",
       "0      Dett    Male   18  Great Britain\n",
       "1     Nern   Female   19         France\n",
       "2   Kallsie    Male   20         France\n",
       "3     Siuau  Female   21  Great Britain\n",
       "4  Shennice    Male   22         France"
      ]
     },
     "execution_count": 98,
     "metadata": {},
     "output_type": "execute_result"
    }
   ],
   "source": [
    "Read_CSV.head()"
   ]
  },
  {
   "cell_type": "markdown",
   "metadata": {},
   "source": [
    "**`tail()`**"
   ]
  },
  {
   "cell_type": "code",
   "execution_count": 99,
   "metadata": {},
   "outputs": [
    {
     "data": {
      "text/html": [
       "<div>\n",
       "<style scoped>\n",
       "    .dataframe tbody tr th:only-of-type {\n",
       "        vertical-align: middle;\n",
       "    }\n",
       "\n",
       "    .dataframe tbody tr th {\n",
       "        vertical-align: top;\n",
       "    }\n",
       "\n",
       "    .dataframe thead th {\n",
       "        text-align: right;\n",
       "    }\n",
       "</style>\n",
       "<table border=\"1\" class=\"dataframe\">\n",
       "  <thead>\n",
       "    <tr style=\"text-align: right;\">\n",
       "      <th></th>\n",
       "      <th>NAME</th>\n",
       "      <th>GENDER</th>\n",
       "      <th>AGE</th>\n",
       "      <th>COUNTRY</th>\n",
       "    </tr>\n",
       "  </thead>\n",
       "  <tbody>\n",
       "    <tr>\n",
       "      <th>5</th>\n",
       "      <td>Chasse</td>\n",
       "      <td>Female</td>\n",
       "      <td>23</td>\n",
       "      <td>France</td>\n",
       "    </tr>\n",
       "    <tr>\n",
       "      <th>6</th>\n",
       "      <td>Tommye</td>\n",
       "      <td>Male</td>\n",
       "      <td>24</td>\n",
       "      <td>United States</td>\n",
       "    </tr>\n",
       "    <tr>\n",
       "      <th>7</th>\n",
       "      <td>Dorcast</td>\n",
       "      <td>Female</td>\n",
       "      <td>25</td>\n",
       "      <td>United States</td>\n",
       "    </tr>\n",
       "    <tr>\n",
       "      <th>8</th>\n",
       "      <td>Angelee</td>\n",
       "      <td>Male</td>\n",
       "      <td>26</td>\n",
       "      <td>Great Britain</td>\n",
       "    </tr>\n",
       "    <tr>\n",
       "      <th>9</th>\n",
       "      <td>Willoom</td>\n",
       "      <td>Female</td>\n",
       "      <td>27</td>\n",
       "      <td>France</td>\n",
       "    </tr>\n",
       "  </tbody>\n",
       "</table>\n",
       "</div>"
      ],
      "text/plain": [
       "      NAME  GENDER  AGE        COUNTRY\n",
       "5   Chasse  Female   23         France\n",
       "6   Tommye    Male   24  United States\n",
       "7  Dorcast  Female   25  United States\n",
       "8  Angelee    Male   26  Great Britain\n",
       "9  Willoom  Female   27         France"
      ]
     },
     "execution_count": 99,
     "metadata": {},
     "output_type": "execute_result"
    }
   ],
   "source": [
    "Read_CSV.tail()"
   ]
  },
  {
   "cell_type": "markdown",
   "metadata": {},
   "source": [
    "**`loc[]`**"
   ]
  },
  {
   "cell_type": "code",
   "execution_count": 100,
   "metadata": {},
   "outputs": [
    {
     "data": {
      "text/html": [
       "<div>\n",
       "<style scoped>\n",
       "    .dataframe tbody tr th:only-of-type {\n",
       "        vertical-align: middle;\n",
       "    }\n",
       "\n",
       "    .dataframe tbody tr th {\n",
       "        vertical-align: top;\n",
       "    }\n",
       "\n",
       "    .dataframe thead th {\n",
       "        text-align: right;\n",
       "    }\n",
       "</style>\n",
       "<table border=\"1\" class=\"dataframe\">\n",
       "  <thead>\n",
       "    <tr style=\"text-align: right;\">\n",
       "      <th></th>\n",
       "      <th>NAME</th>\n",
       "      <th>GENDER</th>\n",
       "      <th>AGE</th>\n",
       "      <th>COUNTRY</th>\n",
       "    </tr>\n",
       "  </thead>\n",
       "  <tbody>\n",
       "    <tr>\n",
       "      <th>8</th>\n",
       "      <td>Angelee</td>\n",
       "      <td>Male</td>\n",
       "      <td>26</td>\n",
       "      <td>Great Britain</td>\n",
       "    </tr>\n",
       "    <tr>\n",
       "      <th>9</th>\n",
       "      <td>Willoom</td>\n",
       "      <td>Female</td>\n",
       "      <td>27</td>\n",
       "      <td>France</td>\n",
       "    </tr>\n",
       "  </tbody>\n",
       "</table>\n",
       "</div>"
      ],
      "text/plain": [
       "      NAME  GENDER  AGE        COUNTRY\n",
       "8  Angelee    Male   26  Great Britain\n",
       "9  Willoom  Female   27         France"
      ]
     },
     "execution_count": 100,
     "metadata": {},
     "output_type": "execute_result"
    }
   ],
   "source": [
    "# Filtering rows where Age is greater than 25\n",
    "filtered_df = Read_CSV.loc[Read_CSV['AGE'] > 25]\n",
    "filtered_df"
   ]
  },
  {
   "cell_type": "markdown",
   "metadata": {},
   "source": [
    "**`iloc[]`**"
   ]
  },
  {
   "cell_type": "code",
   "execution_count": 101,
   "metadata": {},
   "outputs": [
    {
     "data": {
      "text/plain": [
       "NAME                Dett\n",
       "GENDER              Male\n",
       "AGE                   18\n",
       "COUNTRY    Great Britain\n",
       "Name: 0, dtype: object"
      ]
     },
     "execution_count": 101,
     "metadata": {},
     "output_type": "execute_result"
    }
   ],
   "source": [
    "row_2 = Read_CSV.iloc[0]\n",
    "row_2"
   ]
  },
  {
   "cell_type": "code",
   "execution_count": 102,
   "metadata": {},
   "outputs": [
    {
     "name": "stdout",
     "output_type": "stream",
     "text": [
      "Kallsie's Age =  20\n"
     ]
    }
   ],
   "source": [
    "Kallsie_age = Read_CSV.iloc[2,2]\n",
    "print(\"Kallsie's Age = \", Kallsie_age)\n"
   ]
  },
  {
   "cell_type": "markdown",
   "metadata": {},
   "source": [
    "**`sort_values()`**"
   ]
  },
  {
   "cell_type": "code",
   "execution_count": 103,
   "metadata": {},
   "outputs": [
    {
     "data": {
      "text/html": [
       "<div>\n",
       "<style scoped>\n",
       "    .dataframe tbody tr th:only-of-type {\n",
       "        vertical-align: middle;\n",
       "    }\n",
       "\n",
       "    .dataframe tbody tr th {\n",
       "        vertical-align: top;\n",
       "    }\n",
       "\n",
       "    .dataframe thead th {\n",
       "        text-align: right;\n",
       "    }\n",
       "</style>\n",
       "<table border=\"1\" class=\"dataframe\">\n",
       "  <thead>\n",
       "    <tr style=\"text-align: right;\">\n",
       "      <th></th>\n",
       "      <th>NAME</th>\n",
       "      <th>GENDER</th>\n",
       "      <th>AGE</th>\n",
       "      <th>COUNTRY</th>\n",
       "    </tr>\n",
       "  </thead>\n",
       "  <tbody>\n",
       "    <tr>\n",
       "      <th>9</th>\n",
       "      <td>Willoom</td>\n",
       "      <td>Female</td>\n",
       "      <td>27</td>\n",
       "      <td>France</td>\n",
       "    </tr>\n",
       "    <tr>\n",
       "      <th>8</th>\n",
       "      <td>Angelee</td>\n",
       "      <td>Male</td>\n",
       "      <td>26</td>\n",
       "      <td>Great Britain</td>\n",
       "    </tr>\n",
       "    <tr>\n",
       "      <th>7</th>\n",
       "      <td>Dorcast</td>\n",
       "      <td>Female</td>\n",
       "      <td>25</td>\n",
       "      <td>United States</td>\n",
       "    </tr>\n",
       "    <tr>\n",
       "      <th>6</th>\n",
       "      <td>Tommye</td>\n",
       "      <td>Male</td>\n",
       "      <td>24</td>\n",
       "      <td>United States</td>\n",
       "    </tr>\n",
       "    <tr>\n",
       "      <th>5</th>\n",
       "      <td>Chasse</td>\n",
       "      <td>Female</td>\n",
       "      <td>23</td>\n",
       "      <td>France</td>\n",
       "    </tr>\n",
       "    <tr>\n",
       "      <th>4</th>\n",
       "      <td>Shennice</td>\n",
       "      <td>Male</td>\n",
       "      <td>22</td>\n",
       "      <td>France</td>\n",
       "    </tr>\n",
       "    <tr>\n",
       "      <th>3</th>\n",
       "      <td>Siuau</td>\n",
       "      <td>Female</td>\n",
       "      <td>21</td>\n",
       "      <td>Great Britain</td>\n",
       "    </tr>\n",
       "    <tr>\n",
       "      <th>2</th>\n",
       "      <td>Kallsie</td>\n",
       "      <td>Male</td>\n",
       "      <td>20</td>\n",
       "      <td>France</td>\n",
       "    </tr>\n",
       "    <tr>\n",
       "      <th>1</th>\n",
       "      <td>Nern</td>\n",
       "      <td>Female</td>\n",
       "      <td>19</td>\n",
       "      <td>France</td>\n",
       "    </tr>\n",
       "    <tr>\n",
       "      <th>0</th>\n",
       "      <td>Dett</td>\n",
       "      <td>Male</td>\n",
       "      <td>18</td>\n",
       "      <td>Great Britain</td>\n",
       "    </tr>\n",
       "  </tbody>\n",
       "</table>\n",
       "</div>"
      ],
      "text/plain": [
       "       NAME  GENDER  AGE        COUNTRY\n",
       "9   Willoom  Female   27         France\n",
       "8   Angelee    Male   26  Great Britain\n",
       "7   Dorcast  Female   25  United States\n",
       "6    Tommye    Male   24  United States\n",
       "5    Chasse  Female   23         France\n",
       "4  Shennice    Male   22         France\n",
       "3     Siuau  Female   21  Great Britain\n",
       "2   Kallsie    Male   20         France\n",
       "1     Nern   Female   19         France\n",
       "0      Dett    Male   18  Great Britain"
      ]
     },
     "execution_count": 103,
     "metadata": {},
     "output_type": "execute_result"
    }
   ],
   "source": [
    "# Sorting DataFrame by Age in descending order\n",
    "Descending_sorted_df = Read_CSV.sort_values(by='AGE', ascending=False)\n",
    "Descending_sorted_df"
   ]
  },
  {
   "cell_type": "code",
   "execution_count": 104,
   "metadata": {},
   "outputs": [
    {
     "data": {
      "text/html": [
       "<div>\n",
       "<style scoped>\n",
       "    .dataframe tbody tr th:only-of-type {\n",
       "        vertical-align: middle;\n",
       "    }\n",
       "\n",
       "    .dataframe tbody tr th {\n",
       "        vertical-align: top;\n",
       "    }\n",
       "\n",
       "    .dataframe thead th {\n",
       "        text-align: right;\n",
       "    }\n",
       "</style>\n",
       "<table border=\"1\" class=\"dataframe\">\n",
       "  <thead>\n",
       "    <tr style=\"text-align: right;\">\n",
       "      <th></th>\n",
       "      <th>NAME</th>\n",
       "      <th>GENDER</th>\n",
       "      <th>AGE</th>\n",
       "      <th>COUNTRY</th>\n",
       "    </tr>\n",
       "  </thead>\n",
       "  <tbody>\n",
       "    <tr>\n",
       "      <th>0</th>\n",
       "      <td>Dett</td>\n",
       "      <td>Male</td>\n",
       "      <td>18</td>\n",
       "      <td>Great Britain</td>\n",
       "    </tr>\n",
       "    <tr>\n",
       "      <th>1</th>\n",
       "      <td>Nern</td>\n",
       "      <td>Female</td>\n",
       "      <td>19</td>\n",
       "      <td>France</td>\n",
       "    </tr>\n",
       "    <tr>\n",
       "      <th>2</th>\n",
       "      <td>Kallsie</td>\n",
       "      <td>Male</td>\n",
       "      <td>20</td>\n",
       "      <td>France</td>\n",
       "    </tr>\n",
       "    <tr>\n",
       "      <th>3</th>\n",
       "      <td>Siuau</td>\n",
       "      <td>Female</td>\n",
       "      <td>21</td>\n",
       "      <td>Great Britain</td>\n",
       "    </tr>\n",
       "    <tr>\n",
       "      <th>4</th>\n",
       "      <td>Shennice</td>\n",
       "      <td>Male</td>\n",
       "      <td>22</td>\n",
       "      <td>France</td>\n",
       "    </tr>\n",
       "    <tr>\n",
       "      <th>5</th>\n",
       "      <td>Chasse</td>\n",
       "      <td>Female</td>\n",
       "      <td>23</td>\n",
       "      <td>France</td>\n",
       "    </tr>\n",
       "    <tr>\n",
       "      <th>6</th>\n",
       "      <td>Tommye</td>\n",
       "      <td>Male</td>\n",
       "      <td>24</td>\n",
       "      <td>United States</td>\n",
       "    </tr>\n",
       "    <tr>\n",
       "      <th>7</th>\n",
       "      <td>Dorcast</td>\n",
       "      <td>Female</td>\n",
       "      <td>25</td>\n",
       "      <td>United States</td>\n",
       "    </tr>\n",
       "    <tr>\n",
       "      <th>8</th>\n",
       "      <td>Angelee</td>\n",
       "      <td>Male</td>\n",
       "      <td>26</td>\n",
       "      <td>Great Britain</td>\n",
       "    </tr>\n",
       "    <tr>\n",
       "      <th>9</th>\n",
       "      <td>Willoom</td>\n",
       "      <td>Female</td>\n",
       "      <td>27</td>\n",
       "      <td>France</td>\n",
       "    </tr>\n",
       "  </tbody>\n",
       "</table>\n",
       "</div>"
      ],
      "text/plain": [
       "       NAME  GENDER  AGE        COUNTRY\n",
       "0      Dett    Male   18  Great Britain\n",
       "1     Nern   Female   19         France\n",
       "2   Kallsie    Male   20         France\n",
       "3     Siuau  Female   21  Great Britain\n",
       "4  Shennice    Male   22         France\n",
       "5    Chasse  Female   23         France\n",
       "6    Tommye    Male   24  United States\n",
       "7   Dorcast  Female   25  United States\n",
       "8   Angelee    Male   26  Great Britain\n",
       "9   Willoom  Female   27         France"
      ]
     },
     "execution_count": 104,
     "metadata": {},
     "output_type": "execute_result"
    }
   ],
   "source": [
    "# Sorting DataFrame by Age in ascending order\n",
    "Ascending_sorted_df = Read_CSV.sort_values(by='AGE')\n",
    "Ascending_sorted_df"
   ]
  },
  {
   "cell_type": "markdown",
   "metadata": {},
   "source": [
    "**`groupby`**"
   ]
  },
  {
   "cell_type": "code",
   "execution_count": 105,
   "metadata": {},
   "outputs": [
    {
     "data": {
      "text/plain": [
       "GENDER\n",
       "Female    23.0\n",
       "Male      22.0\n",
       "Name: AGE, dtype: float64"
      ]
     },
     "execution_count": 105,
     "metadata": {},
     "output_type": "execute_result"
    }
   ],
   "source": [
    "# Grouping data by Gender and calculating average Age for each group\n",
    "grouped_df = Read_CSV.groupby('GENDER')['AGE'].mean()\n",
    "grouped_df\n"
   ]
  },
  {
   "cell_type": "markdown",
   "metadata": {},
   "source": [
    "**`agg()`**"
   ]
  },
  {
   "cell_type": "code",
   "execution_count": 106,
   "metadata": {},
   "outputs": [],
   "source": [
    "result_mean = Read_CSV.groupby('GENDER').agg({'AGE': 'mean'})\n",
    "result_max = Read_CSV.groupby('GENDER').agg({'AGE': 'max'})\n",
    "result_min = Read_CSV.groupby('GENDER').agg({'AGE': 'min'})"
   ]
  },
  {
   "cell_type": "code",
   "execution_count": 107,
   "metadata": {},
   "outputs": [
    {
     "data": {
      "text/html": [
       "<div>\n",
       "<style scoped>\n",
       "    .dataframe tbody tr th:only-of-type {\n",
       "        vertical-align: middle;\n",
       "    }\n",
       "\n",
       "    .dataframe tbody tr th {\n",
       "        vertical-align: top;\n",
       "    }\n",
       "\n",
       "    .dataframe thead th {\n",
       "        text-align: right;\n",
       "    }\n",
       "</style>\n",
       "<table border=\"1\" class=\"dataframe\">\n",
       "  <thead>\n",
       "    <tr style=\"text-align: right;\">\n",
       "      <th></th>\n",
       "      <th>AGE</th>\n",
       "    </tr>\n",
       "    <tr>\n",
       "      <th>GENDER</th>\n",
       "      <th></th>\n",
       "    </tr>\n",
       "  </thead>\n",
       "  <tbody>\n",
       "    <tr>\n",
       "      <th>Female</th>\n",
       "      <td>23.0</td>\n",
       "    </tr>\n",
       "    <tr>\n",
       "      <th>Male</th>\n",
       "      <td>22.0</td>\n",
       "    </tr>\n",
       "  </tbody>\n",
       "</table>\n",
       "</div>"
      ],
      "text/plain": [
       "         AGE\n",
       "GENDER      \n",
       "Female  23.0\n",
       "Male    22.0"
      ]
     },
     "execution_count": 107,
     "metadata": {},
     "output_type": "execute_result"
    }
   ],
   "source": [
    "result_mean"
   ]
  },
  {
   "cell_type": "code",
   "execution_count": 108,
   "metadata": {},
   "outputs": [
    {
     "data": {
      "text/html": [
       "<div>\n",
       "<style scoped>\n",
       "    .dataframe tbody tr th:only-of-type {\n",
       "        vertical-align: middle;\n",
       "    }\n",
       "\n",
       "    .dataframe tbody tr th {\n",
       "        vertical-align: top;\n",
       "    }\n",
       "\n",
       "    .dataframe thead th {\n",
       "        text-align: right;\n",
       "    }\n",
       "</style>\n",
       "<table border=\"1\" class=\"dataframe\">\n",
       "  <thead>\n",
       "    <tr style=\"text-align: right;\">\n",
       "      <th></th>\n",
       "      <th>AGE</th>\n",
       "    </tr>\n",
       "    <tr>\n",
       "      <th>GENDER</th>\n",
       "      <th></th>\n",
       "    </tr>\n",
       "  </thead>\n",
       "  <tbody>\n",
       "    <tr>\n",
       "      <th>Female</th>\n",
       "      <td>27</td>\n",
       "    </tr>\n",
       "    <tr>\n",
       "      <th>Male</th>\n",
       "      <td>26</td>\n",
       "    </tr>\n",
       "  </tbody>\n",
       "</table>\n",
       "</div>"
      ],
      "text/plain": [
       "        AGE\n",
       "GENDER     \n",
       "Female   27\n",
       "Male     26"
      ]
     },
     "execution_count": 108,
     "metadata": {},
     "output_type": "execute_result"
    }
   ],
   "source": [
    "result_max"
   ]
  },
  {
   "cell_type": "code",
   "execution_count": 109,
   "metadata": {},
   "outputs": [
    {
     "data": {
      "text/html": [
       "<div>\n",
       "<style scoped>\n",
       "    .dataframe tbody tr th:only-of-type {\n",
       "        vertical-align: middle;\n",
       "    }\n",
       "\n",
       "    .dataframe tbody tr th {\n",
       "        vertical-align: top;\n",
       "    }\n",
       "\n",
       "    .dataframe thead th {\n",
       "        text-align: right;\n",
       "    }\n",
       "</style>\n",
       "<table border=\"1\" class=\"dataframe\">\n",
       "  <thead>\n",
       "    <tr style=\"text-align: right;\">\n",
       "      <th></th>\n",
       "      <th>AGE</th>\n",
       "    </tr>\n",
       "    <tr>\n",
       "      <th>GENDER</th>\n",
       "      <th></th>\n",
       "    </tr>\n",
       "  </thead>\n",
       "  <tbody>\n",
       "    <tr>\n",
       "      <th>Female</th>\n",
       "      <td>19</td>\n",
       "    </tr>\n",
       "    <tr>\n",
       "      <th>Male</th>\n",
       "      <td>18</td>\n",
       "    </tr>\n",
       "  </tbody>\n",
       "</table>\n",
       "</div>"
      ],
      "text/plain": [
       "        AGE\n",
       "GENDER     \n",
       "Female   19\n",
       "Male     18"
      ]
     },
     "execution_count": 109,
     "metadata": {},
     "output_type": "execute_result"
    }
   ],
   "source": [
    "result_min"
   ]
  },
  {
   "cell_type": "markdown",
   "metadata": {},
   "source": [
    "**`merge()`**"
   ]
  },
  {
   "cell_type": "code",
   "execution_count": 113,
   "metadata": {},
   "outputs": [
    {
     "data": {
      "text/html": [
       "<div>\n",
       "<style scoped>\n",
       "    .dataframe tbody tr th:only-of-type {\n",
       "        vertical-align: middle;\n",
       "    }\n",
       "\n",
       "    .dataframe tbody tr th {\n",
       "        vertical-align: top;\n",
       "    }\n",
       "\n",
       "    .dataframe thead th {\n",
       "        text-align: right;\n",
       "    }\n",
       "</style>\n",
       "<table border=\"1\" class=\"dataframe\">\n",
       "  <thead>\n",
       "    <tr style=\"text-align: right;\">\n",
       "      <th></th>\n",
       "      <th>NAME</th>\n",
       "      <th>GENDER</th>\n",
       "      <th>AGE</th>\n",
       "      <th>COUNTRY</th>\n",
       "      <th>EMAIL</th>\n",
       "    </tr>\n",
       "  </thead>\n",
       "  <tbody>\n",
       "    <tr>\n",
       "      <th>0</th>\n",
       "      <td>Dett</td>\n",
       "      <td>Male</td>\n",
       "      <td>18</td>\n",
       "      <td>Great Britain</td>\n",
       "      <td>Dett101@gmail.com</td>\n",
       "    </tr>\n",
       "    <tr>\n",
       "      <th>1</th>\n",
       "      <td>Kallsie</td>\n",
       "      <td>Male</td>\n",
       "      <td>20</td>\n",
       "      <td>France</td>\n",
       "      <td>Kallsie103@gmail.com</td>\n",
       "    </tr>\n",
       "    <tr>\n",
       "      <th>2</th>\n",
       "      <td>Siuau</td>\n",
       "      <td>Female</td>\n",
       "      <td>21</td>\n",
       "      <td>Great Britain</td>\n",
       "      <td>Siuau104@gmail.com</td>\n",
       "    </tr>\n",
       "    <tr>\n",
       "      <th>3</th>\n",
       "      <td>Shennice</td>\n",
       "      <td>Male</td>\n",
       "      <td>22</td>\n",
       "      <td>France</td>\n",
       "      <td>Shennice105@gmail.com</td>\n",
       "    </tr>\n",
       "    <tr>\n",
       "      <th>4</th>\n",
       "      <td>Chasse</td>\n",
       "      <td>Female</td>\n",
       "      <td>23</td>\n",
       "      <td>France</td>\n",
       "      <td>Chasse106@gmail.com</td>\n",
       "    </tr>\n",
       "    <tr>\n",
       "      <th>5</th>\n",
       "      <td>Tommye</td>\n",
       "      <td>Male</td>\n",
       "      <td>24</td>\n",
       "      <td>United States</td>\n",
       "      <td>Tommye107@gmail.com</td>\n",
       "    </tr>\n",
       "    <tr>\n",
       "      <th>6</th>\n",
       "      <td>Dorcast</td>\n",
       "      <td>Female</td>\n",
       "      <td>25</td>\n",
       "      <td>United States</td>\n",
       "      <td>Dorcast108@gmail.com</td>\n",
       "    </tr>\n",
       "    <tr>\n",
       "      <th>7</th>\n",
       "      <td>Angelee</td>\n",
       "      <td>Male</td>\n",
       "      <td>26</td>\n",
       "      <td>Great Britain</td>\n",
       "      <td>Angelee109@gmail.com</td>\n",
       "    </tr>\n",
       "    <tr>\n",
       "      <th>8</th>\n",
       "      <td>Willoom</td>\n",
       "      <td>Female</td>\n",
       "      <td>27</td>\n",
       "      <td>France</td>\n",
       "      <td>Willoom110@gmail.com</td>\n",
       "    </tr>\n",
       "  </tbody>\n",
       "</table>\n",
       "</div>"
      ],
      "text/plain": [
       "       NAME  GENDER  AGE        COUNTRY                  EMAIL\n",
       "0      Dett    Male   18  Great Britain      Dett101@gmail.com\n",
       "1   Kallsie    Male   20         France   Kallsie103@gmail.com\n",
       "2     Siuau  Female   21  Great Britain     Siuau104@gmail.com\n",
       "3  Shennice    Male   22         France  Shennice105@gmail.com\n",
       "4    Chasse  Female   23         France    Chasse106@gmail.com\n",
       "5    Tommye    Male   24  United States    Tommye107@gmail.com\n",
       "6   Dorcast  Female   25  United States   Dorcast108@gmail.com\n",
       "7   Angelee    Male   26  Great Britain   Angelee109@gmail.com\n",
       "8   Willoom  Female   27         France   Willoom110@gmail.com"
      ]
     },
     "execution_count": 113,
     "metadata": {},
     "output_type": "execute_result"
    }
   ],
   "source": [
    "# Creating another DataFrame\n",
    "data2 = {\n",
    "    'NAME':['Dett','Nern','Kallsie','Siuau','Shennice','Chasse','Tommye','Dorcast','Angelee','Willoom'],\n",
    "    'EMAIL': ['Dett101@gmail.com','Nern102@gmail.com','Kallsie103@gmail.com','Siuau104@gmail.com','Shennice105@gmail.com','Chasse106@gmail.com','Tommye107@gmail.com','Dorcast108@gmail.com','Angelee109@gmail.com','Willoom110@gmail.com']\n",
    "}\n",
    "Merge_Data = pd.DataFrame(data2)\n",
    "\n",
    "# Merging the two DataFrames based on the 'Name' column\n",
    "merged_df = Read_CSV.merge(Merge_Data, on='NAME')\n",
    "merged_df\n"
   ]
  },
  {
   "cell_type": "markdown",
   "metadata": {},
   "source": [
    "**`join()`**"
   ]
  },
  {
   "cell_type": "code",
   "execution_count": 116,
   "metadata": {},
   "outputs": [
    {
     "data": {
      "text/html": [
       "<div>\n",
       "<style scoped>\n",
       "    .dataframe tbody tr th:only-of-type {\n",
       "        vertical-align: middle;\n",
       "    }\n",
       "\n",
       "    .dataframe tbody tr th {\n",
       "        vertical-align: top;\n",
       "    }\n",
       "\n",
       "    .dataframe thead th {\n",
       "        text-align: right;\n",
       "    }\n",
       "</style>\n",
       "<table border=\"1\" class=\"dataframe\">\n",
       "  <thead>\n",
       "    <tr style=\"text-align: right;\">\n",
       "      <th></th>\n",
       "      <th>NAME</th>\n",
       "      <th>GENDER</th>\n",
       "      <th>AGE</th>\n",
       "      <th>COUNTRY</th>\n",
       "      <th>EMAIL</th>\n",
       "      <th>Score</th>\n",
       "    </tr>\n",
       "  </thead>\n",
       "  <tbody>\n",
       "    <tr>\n",
       "      <th>0</th>\n",
       "      <td>Dett</td>\n",
       "      <td>Male</td>\n",
       "      <td>18</td>\n",
       "      <td>Great Britain</td>\n",
       "      <td>Dett101@gmail.com</td>\n",
       "      <td>85</td>\n",
       "    </tr>\n",
       "    <tr>\n",
       "      <th>1</th>\n",
       "      <td>Nern</td>\n",
       "      <td>Female</td>\n",
       "      <td>19</td>\n",
       "      <td>France</td>\n",
       "      <td>Nern102@gmail.com</td>\n",
       "      <td>78</td>\n",
       "    </tr>\n",
       "    <tr>\n",
       "      <th>2</th>\n",
       "      <td>Kallsie</td>\n",
       "      <td>Male</td>\n",
       "      <td>20</td>\n",
       "      <td>France</td>\n",
       "      <td>Kallsie103@gmail.com</td>\n",
       "      <td>92</td>\n",
       "    </tr>\n",
       "    <tr>\n",
       "      <th>3</th>\n",
       "      <td>Siuau</td>\n",
       "      <td>Female</td>\n",
       "      <td>21</td>\n",
       "      <td>Great Britain</td>\n",
       "      <td>Siuau104@gmail.com</td>\n",
       "      <td>64</td>\n",
       "    </tr>\n",
       "    <tr>\n",
       "      <th>4</th>\n",
       "      <td>Shennice</td>\n",
       "      <td>Male</td>\n",
       "      <td>22</td>\n",
       "      <td>France</td>\n",
       "      <td>Shennice105@gmail.com</td>\n",
       "      <td>89</td>\n",
       "    </tr>\n",
       "    <tr>\n",
       "      <th>5</th>\n",
       "      <td>Chasse</td>\n",
       "      <td>Female</td>\n",
       "      <td>23</td>\n",
       "      <td>France</td>\n",
       "      <td>Chasse106@gmail.com</td>\n",
       "      <td>65</td>\n",
       "    </tr>\n",
       "    <tr>\n",
       "      <th>6</th>\n",
       "      <td>Tommye</td>\n",
       "      <td>Male</td>\n",
       "      <td>24</td>\n",
       "      <td>United States</td>\n",
       "      <td>Tommye107@gmail.com</td>\n",
       "      <td>73</td>\n",
       "    </tr>\n",
       "    <tr>\n",
       "      <th>7</th>\n",
       "      <td>Dorcast</td>\n",
       "      <td>Female</td>\n",
       "      <td>25</td>\n",
       "      <td>United States</td>\n",
       "      <td>Dorcast108@gmail.com</td>\n",
       "      <td>70</td>\n",
       "    </tr>\n",
       "    <tr>\n",
       "      <th>8</th>\n",
       "      <td>Angelee</td>\n",
       "      <td>Male</td>\n",
       "      <td>26</td>\n",
       "      <td>Great Britain</td>\n",
       "      <td>Angelee109@gmail.com</td>\n",
       "      <td>91</td>\n",
       "    </tr>\n",
       "    <tr>\n",
       "      <th>9</th>\n",
       "      <td>Willoom</td>\n",
       "      <td>Female</td>\n",
       "      <td>27</td>\n",
       "      <td>France</td>\n",
       "      <td>Willoom110@gmail.com</td>\n",
       "      <td>93</td>\n",
       "    </tr>\n",
       "  </tbody>\n",
       "</table>\n",
       "</div>"
      ],
      "text/plain": [
       "       NAME  GENDER  AGE        COUNTRY                  EMAIL  Score\n",
       "0      Dett    Male   18  Great Britain      Dett101@gmail.com     85\n",
       "1     Nern   Female   19         France      Nern102@gmail.com     78\n",
       "2   Kallsie    Male   20         France   Kallsie103@gmail.com     92\n",
       "3     Siuau  Female   21  Great Britain     Siuau104@gmail.com     64\n",
       "4  Shennice    Male   22         France  Shennice105@gmail.com     89\n",
       "5    Chasse  Female   23         France    Chasse106@gmail.com     65\n",
       "6    Tommye    Male   24  United States    Tommye107@gmail.com     73\n",
       "7   Dorcast  Female   25  United States   Dorcast108@gmail.com     70\n",
       "8   Angelee    Male   26  Great Britain   Angelee109@gmail.com     91\n",
       "9   Willoom  Female   27         France   Willoom110@gmail.com     93"
      ]
     },
     "execution_count": 116,
     "metadata": {},
     "output_type": "execute_result"
    }
   ],
   "source": [
    "data3  = {\n",
    "    'EMAIL': ['Dett101@gmail.com','Nern102@gmail.com','Kallsie103@gmail.com','Siuau104@gmail.com','Shennice105@gmail.com','Chasse106@gmail.com','Tommye107@gmail.com','Dorcast108@gmail.com','Angelee109@gmail.com','Willoom110@gmail.com'],\n",
    "    'Score': [85, 78, 92, 64, 89, 65, 73, 70, 91, 93]\n",
    "}\n",
    "Join_data = pd.DataFrame(data3)\n",
    "# Join the two DataFrames based on their indexes\n",
    "JOIN_RESULT = Read_CSV.join(Join_data)\n",
    "JOIN_RESULT"
   ]
  },
  {
   "cell_type": "code",
   "execution_count": 128,
   "metadata": {},
   "outputs": [
    {
     "data": {
      "text/plain": [
       "pandas.core.frame.DataFrame"
      ]
     },
     "execution_count": 128,
     "metadata": {},
     "output_type": "execute_result"
    }
   ],
   "source": [
    "type(JOIN_RESULT)"
   ]
  },
  {
   "cell_type": "markdown",
   "metadata": {},
   "source": [
    "**`to_csv()`**"
   ]
  },
  {
   "cell_type": "code",
   "execution_count": 136,
   "metadata": {},
   "outputs": [
    {
     "name": "stdout",
     "output_type": "stream",
     "text": [
      "\n",
      "DataFrame has been saved to 'CSV.csv' successfully.\n"
     ]
    }
   ],
   "source": [
    "file_path = 'CSV.csv'\n",
    "JOIN_RESULT.to_csv(file_path, index=False)\n",
    "\n",
    "print(\"\\nDataFrame has been saved to 'CSV.csv' successfully.\")"
   ]
  },
  {
   "cell_type": "markdown",
   "metadata": {},
   "source": [
    "**`to_excel()`**"
   ]
  },
  {
   "cell_type": "code",
   "execution_count": 137,
   "metadata": {},
   "outputs": [
    {
     "name": "stdout",
     "output_type": "stream",
     "text": [
      "\n",
      "DataFrame has been saved to 'EXCEL.xlsx' successfully.\n"
     ]
    }
   ],
   "source": [
    "file_path = 'EXCEL.xlsx'\n",
    "JOIN_RESULT.to_excel(file_path, index=False)\n",
    "\n",
    "print(\"\\nDataFrame has been saved to 'EXCEL.xlsx' successfully.\")"
   ]
  },
  {
   "cell_type": "markdown",
   "metadata": {},
   "source": [
    "**`describe()`**"
   ]
  },
  {
   "cell_type": "code",
   "execution_count": 138,
   "metadata": {},
   "outputs": [
    {
     "name": "stdout",
     "output_type": "stream",
     "text": [
      "count    10.000000\n",
      "mean     80.000000\n",
      "std      11.421228\n",
      "min      64.000000\n",
      "25%      70.750000\n",
      "50%      81.500000\n",
      "75%      90.500000\n",
      "max      93.000000\n",
      "Name: Score, dtype: float64\n"
     ]
    }
   ],
   "source": [
    "CSV = pd.read_csv(\"CSV.csv\")\n",
    "Score_summary = CSV['Score'].describe()\n",
    "print(Score_summary)\n"
   ]
  },
  {
   "cell_type": "markdown",
   "metadata": {},
   "source": [
    "**`to_frame()`**"
   ]
  },
  {
   "cell_type": "code",
   "execution_count": 139,
   "metadata": {},
   "outputs": [
    {
     "data": {
      "text/html": [
       "<div>\n",
       "<style scoped>\n",
       "    .dataframe tbody tr th:only-of-type {\n",
       "        vertical-align: middle;\n",
       "    }\n",
       "\n",
       "    .dataframe tbody tr th {\n",
       "        vertical-align: top;\n",
       "    }\n",
       "\n",
       "    .dataframe thead th {\n",
       "        text-align: right;\n",
       "    }\n",
       "</style>\n",
       "<table border=\"1\" class=\"dataframe\">\n",
       "  <thead>\n",
       "    <tr style=\"text-align: right;\">\n",
       "      <th></th>\n",
       "      <th>Score</th>\n",
       "    </tr>\n",
       "  </thead>\n",
       "  <tbody>\n",
       "    <tr>\n",
       "      <th>count</th>\n",
       "      <td>10.000000</td>\n",
       "    </tr>\n",
       "    <tr>\n",
       "      <th>mean</th>\n",
       "      <td>80.000000</td>\n",
       "    </tr>\n",
       "    <tr>\n",
       "      <th>std</th>\n",
       "      <td>11.421228</td>\n",
       "    </tr>\n",
       "    <tr>\n",
       "      <th>min</th>\n",
       "      <td>64.000000</td>\n",
       "    </tr>\n",
       "    <tr>\n",
       "      <th>25%</th>\n",
       "      <td>70.750000</td>\n",
       "    </tr>\n",
       "    <tr>\n",
       "      <th>50%</th>\n",
       "      <td>81.500000</td>\n",
       "    </tr>\n",
       "    <tr>\n",
       "      <th>75%</th>\n",
       "      <td>90.500000</td>\n",
       "    </tr>\n",
       "    <tr>\n",
       "      <th>max</th>\n",
       "      <td>93.000000</td>\n",
       "    </tr>\n",
       "  </tbody>\n",
       "</table>\n",
       "</div>"
      ],
      "text/plain": [
       "           Score\n",
       "count  10.000000\n",
       "mean   80.000000\n",
       "std    11.421228\n",
       "min    64.000000\n",
       "25%    70.750000\n",
       "50%    81.500000\n",
       "75%    90.500000\n",
       "max    93.000000"
      ]
     },
     "execution_count": 139,
     "metadata": {},
     "output_type": "execute_result"
    }
   ],
   "source": [
    "Score_summary.to_frame()"
   ]
  },
  {
   "cell_type": "markdown",
   "metadata": {},
   "source": [
    "**`to_dict()`**"
   ]
  },
  {
   "cell_type": "code",
   "execution_count": 142,
   "metadata": {},
   "outputs": [
    {
     "data": {
      "text/plain": [
       "{'count': 10.0,\n",
       " 'mean': 80.0,\n",
       " 'std': 11.42122779934121,\n",
       " 'min': 64.0,\n",
       " '25%': 70.75,\n",
       " '50%': 81.5,\n",
       " '75%': 90.5,\n",
       " 'max': 93.0}"
      ]
     },
     "execution_count": 142,
     "metadata": {},
     "output_type": "execute_result"
    }
   ],
   "source": [
    "Score_summary.to_dict()"
   ]
  },
  {
   "cell_type": "markdown",
   "metadata": {},
   "source": [
    "**`drop()`**"
   ]
  },
  {
   "cell_type": "code",
   "execution_count": 145,
   "metadata": {},
   "outputs": [
    {
     "data": {
      "text/html": [
       "<div>\n",
       "<style scoped>\n",
       "    .dataframe tbody tr th:only-of-type {\n",
       "        vertical-align: middle;\n",
       "    }\n",
       "\n",
       "    .dataframe tbody tr th {\n",
       "        vertical-align: top;\n",
       "    }\n",
       "\n",
       "    .dataframe thead th {\n",
       "        text-align: right;\n",
       "    }\n",
       "</style>\n",
       "<table border=\"1\" class=\"dataframe\">\n",
       "  <thead>\n",
       "    <tr style=\"text-align: right;\">\n",
       "      <th></th>\n",
       "      <th>NAME</th>\n",
       "      <th>GENDER</th>\n",
       "      <th>AGE</th>\n",
       "      <th>COUNTRY</th>\n",
       "      <th>EMAIL</th>\n",
       "      <th>Score</th>\n",
       "    </tr>\n",
       "  </thead>\n",
       "  <tbody>\n",
       "    <tr>\n",
       "      <th>0</th>\n",
       "      <td>Dett</td>\n",
       "      <td>Male</td>\n",
       "      <td>18</td>\n",
       "      <td>Great Britain</td>\n",
       "      <td>Dett101@gmail.com</td>\n",
       "      <td>85</td>\n",
       "    </tr>\n",
       "    <tr>\n",
       "      <th>1</th>\n",
       "      <td>Nern</td>\n",
       "      <td>Female</td>\n",
       "      <td>19</td>\n",
       "      <td>France</td>\n",
       "      <td>Nern102@gmail.com</td>\n",
       "      <td>78</td>\n",
       "    </tr>\n",
       "    <tr>\n",
       "      <th>2</th>\n",
       "      <td>Kallsie</td>\n",
       "      <td>Male</td>\n",
       "      <td>20</td>\n",
       "      <td>France</td>\n",
       "      <td>Kallsie103@gmail.com</td>\n",
       "      <td>92</td>\n",
       "    </tr>\n",
       "    <tr>\n",
       "      <th>3</th>\n",
       "      <td>Siuau</td>\n",
       "      <td>Female</td>\n",
       "      <td>21</td>\n",
       "      <td>Great Britain</td>\n",
       "      <td>Siuau104@gmail.com</td>\n",
       "      <td>64</td>\n",
       "    </tr>\n",
       "    <tr>\n",
       "      <th>4</th>\n",
       "      <td>Shennice</td>\n",
       "      <td>Male</td>\n",
       "      <td>22</td>\n",
       "      <td>France</td>\n",
       "      <td>Shennice105@gmail.com</td>\n",
       "      <td>89</td>\n",
       "    </tr>\n",
       "    <tr>\n",
       "      <th>5</th>\n",
       "      <td>Chasse</td>\n",
       "      <td>Female</td>\n",
       "      <td>23</td>\n",
       "      <td>France</td>\n",
       "      <td>Chasse106@gmail.com</td>\n",
       "      <td>65</td>\n",
       "    </tr>\n",
       "    <tr>\n",
       "      <th>6</th>\n",
       "      <td>Tommye</td>\n",
       "      <td>Male</td>\n",
       "      <td>24</td>\n",
       "      <td>United States</td>\n",
       "      <td>Tommye107@gmail.com</td>\n",
       "      <td>73</td>\n",
       "    </tr>\n",
       "    <tr>\n",
       "      <th>7</th>\n",
       "      <td>Dorcast</td>\n",
       "      <td>Female</td>\n",
       "      <td>25</td>\n",
       "      <td>United States</td>\n",
       "      <td>Dorcast108@gmail.com</td>\n",
       "      <td>70</td>\n",
       "    </tr>\n",
       "    <tr>\n",
       "      <th>8</th>\n",
       "      <td>Angelee</td>\n",
       "      <td>Male</td>\n",
       "      <td>26</td>\n",
       "      <td>Great Britain</td>\n",
       "      <td>Angelee109@gmail.com</td>\n",
       "      <td>91</td>\n",
       "    </tr>\n",
       "  </tbody>\n",
       "</table>\n",
       "</div>"
      ],
      "text/plain": [
       "       NAME  GENDER  AGE        COUNTRY                  EMAIL  Score\n",
       "0      Dett    Male   18  Great Britain      Dett101@gmail.com     85\n",
       "1     Nern   Female   19         France      Nern102@gmail.com     78\n",
       "2   Kallsie    Male   20         France   Kallsie103@gmail.com     92\n",
       "3     Siuau  Female   21  Great Britain     Siuau104@gmail.com     64\n",
       "4  Shennice    Male   22         France  Shennice105@gmail.com     89\n",
       "5    Chasse  Female   23         France    Chasse106@gmail.com     65\n",
       "6    Tommye    Male   24  United States    Tommye107@gmail.com     73\n",
       "7   Dorcast  Female   25  United States   Dorcast108@gmail.com     70\n",
       "8   Angelee    Male   26  Great Britain   Angelee109@gmail.com     91"
      ]
     },
     "execution_count": 145,
     "metadata": {},
     "output_type": "execute_result"
    }
   ],
   "source": [
    "# Drop the row with index 2\n",
    "CSV.drop(9)"
   ]
  },
  {
   "cell_type": "markdown",
   "metadata": {},
   "source": [
    "**`rename()`**"
   ]
  },
  {
   "cell_type": "code",
   "execution_count": 151,
   "metadata": {},
   "outputs": [
    {
     "data": {
      "text/html": [
       "<div>\n",
       "<style scoped>\n",
       "    .dataframe tbody tr th:only-of-type {\n",
       "        vertical-align: middle;\n",
       "    }\n",
       "\n",
       "    .dataframe tbody tr th {\n",
       "        vertical-align: top;\n",
       "    }\n",
       "\n",
       "    .dataframe thead th {\n",
       "        text-align: right;\n",
       "    }\n",
       "</style>\n",
       "<table border=\"1\" class=\"dataframe\">\n",
       "  <thead>\n",
       "    <tr style=\"text-align: right;\">\n",
       "      <th></th>\n",
       "      <th>NAME</th>\n",
       "      <th>GENDER</th>\n",
       "      <th>AGE</th>\n",
       "      <th>LOCATION</th>\n",
       "      <th>EMAIL</th>\n",
       "      <th>PERCANTAGE (%)</th>\n",
       "    </tr>\n",
       "  </thead>\n",
       "  <tbody>\n",
       "    <tr>\n",
       "      <th>0</th>\n",
       "      <td>Dett</td>\n",
       "      <td>Male</td>\n",
       "      <td>18</td>\n",
       "      <td>Great Britain</td>\n",
       "      <td>Dett101@gmail.com</td>\n",
       "      <td>85</td>\n",
       "    </tr>\n",
       "    <tr>\n",
       "      <th>1</th>\n",
       "      <td>Nern</td>\n",
       "      <td>Female</td>\n",
       "      <td>19</td>\n",
       "      <td>France</td>\n",
       "      <td>Nern102@gmail.com</td>\n",
       "      <td>78</td>\n",
       "    </tr>\n",
       "    <tr>\n",
       "      <th>2</th>\n",
       "      <td>Kallsie</td>\n",
       "      <td>Male</td>\n",
       "      <td>20</td>\n",
       "      <td>France</td>\n",
       "      <td>Kallsie103@gmail.com</td>\n",
       "      <td>92</td>\n",
       "    </tr>\n",
       "    <tr>\n",
       "      <th>3</th>\n",
       "      <td>Siuau</td>\n",
       "      <td>Female</td>\n",
       "      <td>21</td>\n",
       "      <td>Great Britain</td>\n",
       "      <td>Siuau104@gmail.com</td>\n",
       "      <td>64</td>\n",
       "    </tr>\n",
       "    <tr>\n",
       "      <th>4</th>\n",
       "      <td>Shennice</td>\n",
       "      <td>Male</td>\n",
       "      <td>22</td>\n",
       "      <td>France</td>\n",
       "      <td>Shennice105@gmail.com</td>\n",
       "      <td>89</td>\n",
       "    </tr>\n",
       "    <tr>\n",
       "      <th>5</th>\n",
       "      <td>Chasse</td>\n",
       "      <td>Female</td>\n",
       "      <td>23</td>\n",
       "      <td>France</td>\n",
       "      <td>Chasse106@gmail.com</td>\n",
       "      <td>65</td>\n",
       "    </tr>\n",
       "    <tr>\n",
       "      <th>6</th>\n",
       "      <td>Tommye</td>\n",
       "      <td>Male</td>\n",
       "      <td>24</td>\n",
       "      <td>United States</td>\n",
       "      <td>Tommye107@gmail.com</td>\n",
       "      <td>73</td>\n",
       "    </tr>\n",
       "    <tr>\n",
       "      <th>7</th>\n",
       "      <td>Dorcast</td>\n",
       "      <td>Female</td>\n",
       "      <td>25</td>\n",
       "      <td>United States</td>\n",
       "      <td>Dorcast108@gmail.com</td>\n",
       "      <td>70</td>\n",
       "    </tr>\n",
       "    <tr>\n",
       "      <th>8</th>\n",
       "      <td>Angelee</td>\n",
       "      <td>Male</td>\n",
       "      <td>26</td>\n",
       "      <td>Great Britain</td>\n",
       "      <td>Angelee109@gmail.com</td>\n",
       "      <td>91</td>\n",
       "    </tr>\n",
       "    <tr>\n",
       "      <th>9</th>\n",
       "      <td>Willoom</td>\n",
       "      <td>Female</td>\n",
       "      <td>27</td>\n",
       "      <td>France</td>\n",
       "      <td>Willoom110@gmail.com</td>\n",
       "      <td>93</td>\n",
       "    </tr>\n",
       "  </tbody>\n",
       "</table>\n",
       "</div>"
      ],
      "text/plain": [
       "       NAME  GENDER  AGE       LOCATION                  EMAIL  PERCANTAGE (%)\n",
       "0      Dett    Male   18  Great Britain      Dett101@gmail.com              85\n",
       "1     Nern   Female   19         France      Nern102@gmail.com              78\n",
       "2   Kallsie    Male   20         France   Kallsie103@gmail.com              92\n",
       "3     Siuau  Female   21  Great Britain     Siuau104@gmail.com              64\n",
       "4  Shennice    Male   22         France  Shennice105@gmail.com              89\n",
       "5    Chasse  Female   23         France    Chasse106@gmail.com              65\n",
       "6    Tommye    Male   24  United States    Tommye107@gmail.com              73\n",
       "7   Dorcast  Female   25  United States   Dorcast108@gmail.com              70\n",
       "8   Angelee    Male   26  Great Britain   Angelee109@gmail.com              91\n",
       "9   Willoom  Female   27         France   Willoom110@gmail.com              93"
      ]
     },
     "execution_count": 151,
     "metadata": {},
     "output_type": "execute_result"
    }
   ],
   "source": [
    "# Using a dictionary to specify the renaming\n",
    "new_column_names = {\n",
    "    'COUNTRY':'LOCATION',\n",
    "    'Score':'PERCANTAGE (%)'\n",
    "}\n",
    "\n",
    "EX_df = CSV.rename(columns=new_column_names)\n",
    "EX_df"
   ]
  },
  {
   "cell_type": "markdown",
   "metadata": {},
   "source": [
    "--------------------------------------------------------------------------------------------------------------------"
   ]
  },
  {
   "cell_type": "markdown",
   "metadata": {},
   "source": [
    "Q.No-06    Which of the following is mutable in nature Series, DataFrame, Panel?"
   ]
  },
  {
   "cell_type": "markdown",
   "metadata": {},
   "source": [
    "Ans :-"
   ]
  },
  {
   "cell_type": "markdown",
   "metadata": {},
   "source": [
    "In the English language, among the options provided, the `\"Series\"` and `\"DataFrame\"` are mutable in nature, while the `\"Panel\"` is not."
   ]
  },
  {
   "cell_type": "markdown",
   "metadata": {},
   "source": [
    "**`Explanation :-`**"
   ]
  },
  {
   "cell_type": "markdown",
   "metadata": {},
   "source": [
    "1. **`Series :-`** A Series is a one-dimensional labeled array-like data structure in pandas. It is mutable, meaning you can modify its elements after creation. Elements can be added, removed, or updated within a Series.\n",
    "\n",
    "2. **`DataFrame :-`** A DataFrame is a two-dimensional labeled data structure in pandas, similar to a table in a relational database. Like Series, DataFrame is also mutable. You can add, delete, or modify rows and columns in a DataFrame.\n",
    "\n",
    "3. **`Panel :-`** A Panel is a three-dimensional data structure in pandas that can hold data in a tabular format with axes representing items, major-axis (rows), and minor-axis (columns). However, the Panel data structure has been deprecated since pandas version 0.25.0 and replaced by more efficient and flexible data structures like MultiIndex DataFrames. Panels were not mutable and lacked broad usage, leading to their deprecation."
   ]
  },
  {
   "cell_type": "markdown",
   "metadata": {},
   "source": [
    "Remember that my knowledge is up to September 2021, and the situation may have changed with newer versions of pandas. Always refer to the latest pandas documentation for the most up-to-date information."
   ]
  },
  {
   "cell_type": "markdown",
   "metadata": {},
   "source": [
    "--------------------------------------------------------------------------------------------------------------------"
   ]
  },
  {
   "cell_type": "markdown",
   "metadata": {},
   "source": [
    "Q.No-07    Create a DataFrame using multiple Series. Explain with an example."
   ]
  },
  {
   "cell_type": "markdown",
   "metadata": {},
   "source": [
    "Ans :-"
   ]
  },
  {
   "cell_type": "markdown",
   "metadata": {},
   "source": [
    "Sure! In pandas, a DataFrame is a 2-dimensional labeled data structure that can hold data of different types in columns, similar to a table in a database or an Excel spreadsheet. You can create a DataFrame using multiple Series, where each Series represents a column in the DataFrame."
   ]
  },
  {
   "cell_type": "code",
   "execution_count": 154,
   "metadata": {},
   "outputs": [
    {
     "data": {
      "text/html": [
       "<div>\n",
       "<style scoped>\n",
       "    .dataframe tbody tr th:only-of-type {\n",
       "        vertical-align: middle;\n",
       "    }\n",
       "\n",
       "    .dataframe tbody tr th {\n",
       "        vertical-align: top;\n",
       "    }\n",
       "\n",
       "    .dataframe thead th {\n",
       "        text-align: right;\n",
       "    }\n",
       "</style>\n",
       "<table border=\"1\" class=\"dataframe\">\n",
       "  <thead>\n",
       "    <tr style=\"text-align: right;\">\n",
       "      <th></th>\n",
       "      <th>Student Name</th>\n",
       "      <th>English</th>\n",
       "      <th>Hindi</th>\n",
       "      <th>Math</th>\n",
       "      <th>Science</th>\n",
       "      <th>Social Science</th>\n",
       "    </tr>\n",
       "  </thead>\n",
       "  <tbody>\n",
       "    <tr>\n",
       "      <th>0</th>\n",
       "      <td>Alice</td>\n",
       "      <td>73</td>\n",
       "      <td>67</td>\n",
       "      <td>85</td>\n",
       "      <td>90</td>\n",
       "      <td>75</td>\n",
       "    </tr>\n",
       "    <tr>\n",
       "      <th>1</th>\n",
       "      <td>Bob</td>\n",
       "      <td>99</td>\n",
       "      <td>74</td>\n",
       "      <td>78</td>\n",
       "      <td>85</td>\n",
       "      <td>88</td>\n",
       "    </tr>\n",
       "    <tr>\n",
       "      <th>2</th>\n",
       "      <td>Charlie</td>\n",
       "      <td>82</td>\n",
       "      <td>63</td>\n",
       "      <td>92</td>\n",
       "      <td>88</td>\n",
       "      <td>79</td>\n",
       "    </tr>\n",
       "    <tr>\n",
       "      <th>3</th>\n",
       "      <td>David</td>\n",
       "      <td>81</td>\n",
       "      <td>92</td>\n",
       "      <td>66</td>\n",
       "      <td>79</td>\n",
       "      <td>92</td>\n",
       "    </tr>\n",
       "    <tr>\n",
       "      <th>4</th>\n",
       "      <td>Eva</td>\n",
       "      <td>77</td>\n",
       "      <td>89</td>\n",
       "      <td>91</td>\n",
       "      <td>82</td>\n",
       "      <td>84</td>\n",
       "    </tr>\n",
       "  </tbody>\n",
       "</table>\n",
       "</div>"
      ],
      "text/plain": [
       "  Student Name  English  Hindi  Math   Science   Social Science \n",
       "0        Alice       73     67     85        90               75\n",
       "1          Bob       99     74     78        85               88\n",
       "2      Charlie       82     63     92        88               79\n",
       "3        David       81     92     66        79               92\n",
       "4          Eva       77     89     91        82               84"
      ]
     },
     "execution_count": 154,
     "metadata": {},
     "output_type": "execute_result"
    }
   ],
   "source": [
    "import pandas as pd\n",
    "\n",
    "# Create Series for student names and scores in three subjects\n",
    "student_names = pd.Series(['Alice', 'Bob', 'Charlie', 'David', 'Eva'])\n",
    "english_scores = pd.Series([73, 99, 82, 81, 77])\n",
    "hindi_scores = pd.Series([67, 74, 63, 92, 89])\n",
    "math_scores = pd.Series([85, 78, 92, 66, 91])\n",
    "science_scores = pd.Series([90, 85, 88, 79, 82])\n",
    "Social_Science_scores = pd.Series([75, 88, 79, 92, 84])\n",
    "\n",
    "\n",
    "# Create a DataFrame using the above Series\n",
    "data = {\n",
    "    'Student Name': student_names,\n",
    "    'English': english_scores,\n",
    "    'Hindi': hindi_scores,\n",
    "    'Math ': math_scores,\n",
    "    'Science ': science_scores,\n",
    "    'Social Science ': Social_Science_scores\n",
    "}\n",
    "\n",
    "df = pd.DataFrame(data)\n",
    "\n",
    "df"
   ]
  },
  {
   "cell_type": "code",
   "execution_count": null,
   "metadata": {},
   "outputs": [],
   "source": []
  }
 ],
 "metadata": {
  "kernelspec": {
   "display_name": "Python 3",
   "language": "python",
   "name": "python3"
  },
  "language_info": {
   "codemirror_mode": {
    "name": "ipython",
    "version": 3
   },
   "file_extension": ".py",
   "mimetype": "text/x-python",
   "name": "python",
   "nbconvert_exporter": "python",
   "pygments_lexer": "ipython3",
   "version": "3.9.13"
  },
  "orig_nbformat": 4
 },
 "nbformat": 4,
 "nbformat_minor": 2
}
